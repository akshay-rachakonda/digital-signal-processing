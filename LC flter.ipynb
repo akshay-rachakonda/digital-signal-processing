{
 "cells": [
  {
   "cell_type": "code",
   "execution_count": 1,
   "metadata": {},
   "outputs": [],
   "source": [
    "import numpy as np\n",
    "import matplotlib.pyplot as plt"
   ]
  },
  {
   "cell_type": "code",
   "execution_count": 2,
   "metadata": {},
   "outputs": [],
   "source": [
    "# parameters\n",
    "t_duration = 1\n",
    "t_step = 1e-6\n",
    "n_data=int(t_duration/t_step)\n",
    "\n",
    "# time array in integer from 0 to 1e6 but last sample is absent\n",
    "t_array= np.arange(n_data)*t_step\n",
    "\n",
    "# filter parameter values\n",
    "C= 1000e-6\n",
    "R= 0.05\n",
    "L= 0.001\n",
    "\n",
    "# Voltage input\n",
    "f= 50\n",
    "omega= 2*np.pi*f\n",
    "mag= np.sqrt(2)*240\n",
    "\n",
    "ip_voltage_signal = mag*np.sin(t_array*omega) + 0.1*mag*np.sin(t_array*15*omega)\n"
   ]
  },
  {
   "cell_type": "code",
   "execution_count": 3,
   "metadata": {},
   "outputs": [],
   "source": [
    "# sampling input voltage signal\n",
    "\n",
    "t_sample= 200e-6 # 5 KHz\n",
    "n_skip = int(t_sample/t_step)\n",
    "\n",
    "tsample_array= t_array[::n_skip]\n",
    "ip_voltage_samples = ip_voltage_signal[::n_skip]"
   ]
  },
  {
   "cell_type": "code",
   "execution_count": 4,
   "metadata": {
    "scrolled": true
   },
   "outputs": [],
   "source": [
    "# initialize output\n",
    "op_voltage_samples= np.zeros(ip_voltage_samples.size)\n",
    "# filter input \n",
    "u= np.zeros(3)\n",
    "y= np.zeros(3)\n",
    "# y[0] to derive \n",
    "# calculate output\n",
    "for volt_index, volt_value in np.ndenumerate(ip_voltage_samples):\n",
    "    u[0]= volt_value\n",
    "    y[0]= ((1/(L*C))*(u[0]+2*u[1]+u[2])-(-2*(2/t_sample)*(2/t_sample)+(2/(L*C)))*y[1]- ((2/t_sample)*(2/t_sample)- (R/L)*(2/t_sample)+ (1/(L*C)))*y[2])/((2/t_sample)*(2/t_sample)+(R/L)*(2/t_sample)+(1/(L*C)))\n",
    "    u[2]= u[1]\n",
    "    y[2]= y[2]\n",
    "    u[1]= u[0]\n",
    "    y[1]= u[0]\n",
    "    op_voltage_samples[volt_index]= y[0]"
   ]
  },
  {
   "cell_type": "code",
   "execution_count": 5,
   "metadata": {},
   "outputs": [
    {
     "data": {
      "image/png": "[encoded data removed]",
      "text/plain": [
       "<Figure size 432x288 with 1 Axes>"
      ]
     },
     "metadata": {
      "needs_background": "light"
     },
     "output_type": "display_data"
    }
   ],
   "source": [
    "plt.figure()\n",
    "plt.plot(tsample_array, ip_voltage_samples, label=\"input\",ds=\"steps\")\n",
    "plt.plot(tsample_array, op_voltage_samples, label=\"output\",ds=\"steps\")\n",
    "plt.xlim([0.0,0.04])\n",
    "plt.title(\"Input and output\")\n",
    "plt.legend()\n",
    "plt.show()"
   ]
  },
  {
   "cell_type": "code",
   "execution_count": null,
   "metadata": {},
   "outputs": [],
   "source": []
  },
  {
   "cell_type": "code",
   "execution_count": null,
   "metadata": {},
   "outputs": [],
   "source": []
  },
  {
   "cell_type": "code",
   "execution_count": null,
   "metadata": {},
   "outputs": [],
   "source": []
  },
  {
   "cell_type": "code",
   "execution_count": null,
   "metadata": {},
   "outputs": [],
   "source": []
  },
  {
   "cell_type": "code",
   "execution_count": null,
   "metadata": {
    "scrolled": true
   },
   "outputs": [],
   "source": []
  },
  {
   "cell_type": "code",
   "execution_count": 6,
   "metadata": {},
   "outputs": [],
   "source": [
    "# peak voltage= peak_current/omega*C, min voltage= -peak_current /omega*C\n",
    "# Vpeak-peak= V1-V2\n",
    "# here one issue is there -\"output Voltage has a dc offset even though the input is pure AC\"\n",
    "# this model is repeatedly executed within a Interrupt service routine\n",
    "# ISR is configured to run with a timer interupt to ensure sampling occurs at regular intervals"
   ]
  }
 ],
 "metadata": {
  "kernelspec": {
   "display_name": "Python 3",
   "language": "python",
   "name": "python3"
  },
  "language_info": {
   "codemirror_mode": {
    "name": "ipython",
    "version": 3
   },
   "file_extension": ".py",
   "mimetype": "text/x-python",
   "name": "python",
   "nbconvert_exporter": "python",
   "pygments_lexer": "ipython3",
   "version": "3.8.10"
  }
 },
 "nbformat": 4,
 "nbformat_minor": 4
}
