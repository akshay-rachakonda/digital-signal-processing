{
 "cells": [
  {
   "cell_type": "code",
   "execution_count": 1,
   "metadata": {},
   "outputs": [],
   "source": [
    "import numpy as np\n",
    "import matplotlib.pyplot as plt"
   ]
  },
  {
   "cell_type": "code",
   "execution_count": 2,
   "metadata": {},
   "outputs": [],
   "source": [
    "# input is voltage\n",
    "L= 1e-3\n",
    "Vmag=np.sqrt(2)*240\n",
    "f=50\n",
    "omega=2*np.pi*f\n",
    "Tg=1e-6\n",
    "t= np.arange(0,1,Tg)\n",
    "v=Vmag*np.sin(omega*t)\n"
   ]
  },
  {
   "cell_type": "code",
   "execution_count": 3,
   "metadata": {},
   "outputs": [],
   "source": [
    "T= 200e-6 # sampling period for 5 KHz frequency\n",
    "n_samples= int(T/Tg)\n",
    "t_samples=t[::n_samples]\n",
    "v_samples=v[::n_samples]"
   ]
  },
  {
   "cell_type": "code",
   "execution_count": 4,
   "metadata": {},
   "outputs": [],
   "source": [
    "i_samples=np.zeros(v_samples.size)\n",
    "u= np.zeros(2)\n",
    "y=np.zeros(2)\n"
   ]
  },
  {
   "cell_type": "code",
   "execution_count": 5,
   "metadata": {},
   "outputs": [],
   "source": [
    "for v_index, v_val in np.ndenumerate(v_samples):\n",
    "    u[0]= v_val\n",
    "    y[0]= (T*u[0]+T*u[1]+2*L*y[1])/(2*L)\n",
    "    u[1]= u[0]\n",
    "    y[1]= y[0]\n",
    "    i_samples[v_index]=y[0]"
   ]
  },
  {
   "cell_type": "code",
   "execution_count": 7,
   "metadata": {},
   "outputs": [
    {
     "data": {
      "image/png": "[encoded data removed]",
      "text/plain": [
       "<Figure size 432x288 with 1 Axes>"
      ]
     },
     "metadata": {
      "needs_background": "light"
     },
     "output_type": "display_data"
    }
   ],
   "source": [
    "plt.figure()\n",
    "plt.plot(t_samples,i_samples,label=\"output\",ds=\"steps\")\n",
    "plt.xlim([0,0.02])\n",
    "plt.legend()\n",
    "plt.show()"
   ]
  }
 ],
 "metadata": {
  "kernelspec": {
   "display_name": "Python 3",
   "language": "python",
   "name": "python3"
  },
  "language_info": {
   "codemirror_mode": {
    "name": "ipython",
    "version": 3
   },
   "file_extension": ".py",
   "mimetype": "text/x-python",
   "name": "python",
   "nbconvert_exporter": "python",
   "pygments_lexer": "ipython3",
   "version": "3.8.10"
  }
 },
 "nbformat": 4,
 "nbformat_minor": 4
}
