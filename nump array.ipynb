{
 "cells": [
  {
   "cell_type": "code",
   "execution_count": 1,
   "metadata": {},
   "outputs": [],
   "source": [
    "import numpy as np"
   ]
  },
  {
   "cell_type": "code",
   "execution_count": 2,
   "metadata": {},
   "outputs": [],
   "source": [
    "# Array Creation\n",
    "# from numpy library - numpy arrays are important.\n",
    "# discrete values are stored in numpy arrays\n",
    "\n",
    "# suppose waveform has 50 hz frequency and we are observing the signal for 1 sec\n",
    "\n",
    "# we have to decide sampling frequency tos moothly represent waveform\n",
    "# let generating frequency be 1000 times highest frequency in a particular frequency\n",
    "\n",
    "f= 50\n",
    "T= 1/f\n",
    "fg= 1e+6\n",
    "Tg= 1/fg\n",
    "t_duration =1\n",
    "t_array= np.arange(0, t_duration, Tg)\n",
    "\n"
   ]
  },
  {
   "cell_type": "code",
   "execution_count": 3,
   "metadata": {},
   "outputs": [
    {
     "data": {
      "text/plain": [
       "array([2.e-06, 3.e-06, 4.e-06])"
      ]
     },
     "execution_count": 3,
     "metadata": {},
     "output_type": "execute_result"
    }
   ],
   "source": [
    "# Array Manipulation\n",
    "#1.\n",
    "# slice\n",
    "# t_array[:3] # prints 0,1,2 - 3 values\n",
    "# more slice\n",
    "t_array[2:5:1] # start from 1 stop at 5 step is 5 stops at 5-1 =4\n"
   ]
  },
  {
   "cell_type": "code",
   "execution_count": 4,
   "metadata": {},
   "outputs": [
    {
     "name": "stdout",
     "output_type": "stream",
     "text": [
      "[ 0.   2.5  5.   7.5 10.  12.5]\n"
     ]
    }
   ],
   "source": [
    "#Array manipulation\n",
    "#2. \n",
    "# multiplication\n",
    "a= np.arange(0,3,0.5)\n",
    "x= 5*a # multiply 5 to every element of a\n",
    "print(x)"
   ]
  }
 ],
 "metadata": {
  "kernelspec": {
   "display_name": "Python 3",
   "language": "python",
   "name": "python3"
  },
  "language_info": {
   "codemirror_mode": {
    "name": "ipython",
    "version": 3
   },
   "file_extension": ".py",
   "mimetype": "text/x-python",
   "name": "python",
   "nbconvert_exporter": "python",
   "pygments_lexer": "ipython3",
   "version": "3.8.10"
  }
 },
 "nbformat": 4,
 "nbformat_minor": 4
}
